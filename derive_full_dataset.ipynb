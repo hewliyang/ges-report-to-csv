{
 "cells": [
  {
   "cell_type": "markdown",
   "metadata": {},
   "source": [
    "### Load Data Up To 2021\n",
    "\n",
    "[data.gov.sg](https://beta.data.gov.sg/collections/415/view)"
   ]
  },
  {
   "cell_type": "code",
   "execution_count": 2,
   "metadata": {},
   "outputs": [
    {
     "data": {
      "text/plain": [
       "(1121, 12)"
      ]
     },
     "execution_count": 2,
     "metadata": {},
     "output_type": "execute_result"
    }
   ],
   "source": [
    "import pandas as pd\n",
    "\n",
    "ori_df = pd.read_csv(\"GraduateEmploymentSurveyNTUNUSSITSMUSUSSSUTD.csv\")\n",
    "ori_df.shape"
   ]
  },
  {
   "cell_type": "code",
   "execution_count": 3,
   "metadata": {},
   "outputs": [
    {
     "data": {
      "text/plain": [
       "array(['Nanyang Technological University',\n",
       "       'National University of Singapore',\n",
       "       'Singapore Management University',\n",
       "       'Singapore Institute of Technology',\n",
       "       'Singapore University of Technology and Design',\n",
       "       'Singapore University of Social Sciences'], dtype=object)"
      ]
     },
     "execution_count": 3,
     "metadata": {},
     "output_type": "execute_result"
    }
   ],
   "source": [
    "ori_df[\"university\"].unique()"
   ]
  },
  {
   "cell_type": "markdown",
   "metadata": {},
   "source": [
    "Handle SMU weirdness in the DataGovSG dataset. `(4-years programme)` appended to the back of degree names."
   ]
  },
  {
   "cell_type": "code",
   "execution_count": 12,
   "metadata": {},
   "outputs": [],
   "source": [
    "from table_parser import magic_clean_strings\n",
    "\n",
    "r = \"(4-years programme)\"\n",
    "clean_smu = lambda x: x.replace(r, \"\").strip()\n",
    "ori_df[\"degree\"] = ori_df[\"degree\"].apply(magic_clean_strings).apply(clean_smu)\n",
    "ori_df[\"school\"] = ori_df[\"school\"].apply(magic_clean_strings)"
   ]
  },
  {
   "cell_type": "code",
   "execution_count": 10,
   "metadata": {},
   "outputs": [
    {
     "data": {
      "text/plain": [
       "array(['College of Business (Nanyang Business School)',\n",
       "       'College of Engineering',\n",
       "       'College of Humanities, Arts & Social Sciences',\n",
       "       'College of Sciences', 'National Institute of Education (NIE)',\n",
       "       'Faculty of Arts & Social Sciences', 'NUS Business School',\n",
       "       'School of Computing', 'Faculty of Dentistry',\n",
       "       'School of Design & Environment', 'Faculty of Engineering',\n",
       "       'Faculty of Law', 'YLL School of Medicine',\n",
       "       'Yong Siew Toh Conservatory of Music', 'Faculty of Science',\n",
       "       'School of Accountancy (4-years programme) *',\n",
       "       'School of Business (4-years programme) *',\n",
       "       'School of Economics (4-years programme) *',\n",
       "       'School of Information Systems (4-years programme) *',\n",
       "       'School of Social Sciences (4-years programme) *',\n",
       "       'School of Law (4-years programme) *',\n",
       "       'School of Accountancy (4-year programme) *',\n",
       "       'School of Business (4-year programme) *',\n",
       "       'School of Economics (4-year programme) *',\n",
       "       'School of Information Systems (4-year programme) *',\n",
       "       'School of Social Sciences (4-year programme) *',\n",
       "       'School of Law (4-year programme) *',\n",
       "       'DigiPen Institute of Technology', 'The Glasgow School of Art',\n",
       "       'Newcastle University', 'Technische Universit�t M�nchen',\n",
       "       'The Culinary Institute of America', 'Trinity College Dublin',\n",
       "       'University of Glasgow', 'University of Manchester',\n",
       "       'University of Nevada, Las Vegas', 'Wheelock College',\n",
       "       'Multi-Disciplinary Programme', 'na',\n",
       "       'Singapore Institute of Technology -Trinity College Dublin',\n",
       "       'Sports Science and Management', 'Faculty Of Dentistry',\n",
       "       'Faculty Of Engineering', 'Yong Loo Lin School (Medicine)',\n",
       "       'Trinity College Dublin / Singapore Institute of Technology-Trinity College Dublin',\n",
       "       'University of Liverpool', 'YST Conservatory Of Music',\n",
       "       'Yale-NUS College', 'Multi-Disciplinary Programmes',\n",
       "       'Singapore Institute of Technology -Trinity College Dublin / Trinity College Dublin',\n",
       "       'Singapore Institute of Technology',\n",
       "       'Lee Kong Chian School of Medicine',\n",
       "       'Multidisciplinary Programmes',\n",
       "       'Singapore Institute of Technology (SIT)',\n",
       "       'SIT-University of Glasgow',\n",
       "       'SIT-Trinity College Dublin / Trinity College Dublin',\n",
       "       'School of Business', 'YST Conservatory of Music',\n",
       "       'SIT-DigiPen Institute of Technology', 'SIT-Massey University',\n",
       "       'SIT-Newcastle University',\n",
       "       'S R Nathan School of Human Development', 'College of Science',\n",
       "       'SIT- DigiPen Institute of Technology', 'SIT- Massey University',\n",
       "       'SIT- Newcastle University',\n",
       "       'SIT / SIT-Trinity College Dublin / Trinity College Dublin',\n",
       "       'SIT-Trinity College Dublin'], dtype=object)"
      ]
     },
     "execution_count": 10,
     "metadata": {},
     "output_type": "execute_result"
    }
   ],
   "source": [
    "ori_df.school.unique()"
   ]
  },
  {
   "cell_type": "markdown",
   "metadata": {},
   "source": [
    "### Parse 2022 -> Present"
   ]
  },
  {
   "cell_type": "markdown",
   "metadata": {},
   "source": [
    "Download PDF's from MOE\n",
    "\n",
    "URL Pattern: `https://www.moe.gov.sg/-/media/files/post-secondary/ges-{YYYY}/web-publication-{nus/sit/ntu/sutd/suss}-ges-{YYYY}.ashx`"
   ]
  },
  {
   "cell_type": "code",
   "execution_count": 5,
   "metadata": {},
   "outputs": [
    {
     "name": "stderr",
     "output_type": "stream",
     "text": [
      "2024-03-10 01:19:40,507 - WARNING - No table on page 1 of in/Web Publication SMU GES 2023.pdf\n",
      "2024-03-10 01:19:43,117 - WARNING - No table on page 2 of in/Web Publication SIT GES 2022.pdf\n",
      "2024-03-10 01:19:46,918 - WARNING - No table on page 1 of in/Web Publication SUSS GES 2023.pdf\n",
      "2024-03-10 01:19:48,367 - WARNING - No table on page 1 of in/Web Publication SUSS GES 2022.pdf\n",
      "2024-03-10 01:19:49,176 - WARNING - No table on page 1 of in/Web Publication SMU GES 2022.pdf\n"
     ]
    }
   ],
   "source": [
    "from glob import glob\n",
    "from table_parser import GESTableParser\n",
    "parser = GESTableParser()\n",
    "\n",
    "dfs = []\n",
    "for f in list(glob(\"in/*.pdf\")): dfs.append(parser.extract_tab_from_one_pdf(f))"
   ]
  },
  {
   "cell_type": "markdown",
   "metadata": {},
   "source": [
    "### Concat"
   ]
  },
  {
   "cell_type": "code",
   "execution_count": 13,
   "metadata": {},
   "outputs": [
    {
     "data": {
      "text/plain": [
       "(1367, 12)"
      ]
     },
     "execution_count": 13,
     "metadata": {},
     "output_type": "execute_result"
    }
   ],
   "source": [
    "merged_df = pd.concat([ori_df, *dfs], axis=0, ignore_index=True)\n",
    "merged_df.shape"
   ]
  },
  {
   "cell_type": "code",
   "execution_count": 14,
   "metadata": {},
   "outputs": [
    {
     "data": {
      "text/plain": [
       "array(['College of Business (Nanyang Business School)',\n",
       "       'College of Engineering',\n",
       "       'College of Humanities, Arts & Social Sciences',\n",
       "       'College of Sciences', 'National Institute of Education (NIE)',\n",
       "       'Faculty of Arts & Social Sciences', 'NUS Business School',\n",
       "       'School of Computing', 'Faculty of Dentistry',\n",
       "       'School of Design & Environment', 'Faculty of Engineering',\n",
       "       'Faculty of Law', 'YLL School of Medicine',\n",
       "       'Yong Siew Toh Conservatory of Music', 'Faculty of Science',\n",
       "       'School of Accountancy (4-years programme)',\n",
       "       'School of Business (4-years programme)',\n",
       "       'School of Economics (4-years programme)',\n",
       "       'School of Information Systems (4-years programme)',\n",
       "       'School of Social Sciences (4-years programme)',\n",
       "       'School of Law (4-years programme)',\n",
       "       'School of Accountancy (4-year programme)',\n",
       "       'School of Business (4-year programme)',\n",
       "       'School of Economics (4-year programme)',\n",
       "       'School of Information Systems (4-year programme)',\n",
       "       'School of Social Sciences (4-year programme)',\n",
       "       'School of Law (4-year programme)',\n",
       "       'DigiPen Institute of Technology', 'The Glasgow School of Art',\n",
       "       'Newcastle University', 'Technische Universit�t M�nchen',\n",
       "       'The Culinary Institute of America', 'Trinity College Dublin',\n",
       "       'University of Glasgow', 'University of Manchester',\n",
       "       'University of Nevada, Las Vegas', 'Wheelock College',\n",
       "       'Multi-Disciplinary Programme', 'na',\n",
       "       'Singapore Institute of Technology -Trinity College Dublin',\n",
       "       'Sports Science and Management', 'Faculty Of Dentistry',\n",
       "       'Faculty Of Engineering', 'Yong Loo Lin School (Medicine)',\n",
       "       'Trinity College Dublin / Singapore Institute of Technology-Trinity College Dublin',\n",
       "       'University of Liverpool', 'YST Conservatory Of Music',\n",
       "       'Yale-NUS College', 'Multi-Disciplinary Programmes',\n",
       "       'Singapore Institute of Technology -Trinity College Dublin / Trinity College Dublin',\n",
       "       'Singapore Institute of Technology',\n",
       "       'Lee Kong Chian School of Medicine',\n",
       "       'Multidisciplinary Programmes',\n",
       "       'Singapore Institute of Technology (SIT)',\n",
       "       'SIT-University of Glasgow',\n",
       "       'SIT-Trinity College Dublin / Trinity College Dublin',\n",
       "       'School of Business', 'YST Conservatory of Music',\n",
       "       'SIT-DigiPen Institute of Technology', 'SIT-Massey University',\n",
       "       'SIT-Newcastle University',\n",
       "       'S R Nathan School of Human Development', 'College of Science',\n",
       "       'SIT- DigiPen Institute of Technology', 'SIT- Massey University',\n",
       "       'SIT- Newcastle University',\n",
       "       'SIT / SIT-Trinity College Dublin / Trinity College Dublin',\n",
       "       'SIT-Trinity College Dublin',\n",
       "       'School of Computing & Information Systems (4-year programme) – Information Systems',\n",
       "       'School of Computing & Information Systems (4-year programme) – Computer Science',\n",
       "       'Technische Universität München',\n",
       "       'College of Design and Engineering',\n",
       "       'School of Humanities and Behavioural Sciences', 'School of Law',\n",
       "       None,\n",
       "       'School of Computing and Information Systems (4-year programme)'],\n",
       "      dtype=object)"
      ]
     },
     "execution_count": 14,
     "metadata": {},
     "output_type": "execute_result"
    }
   ],
   "source": [
    "merged_df.school.unique()"
   ]
  },
  {
   "cell_type": "markdown",
   "metadata": {},
   "source": [
    "**warning**: \n",
    "\n",
    "There are a bunch of inconsistencies over the years on namings, for example:\n",
    "-  `Trinity College Dublin / Singapore Institute of Technology-Trinity College Dublin`, \n",
    "- `Singapore Institute of Technology -Trinity College Dublin / Trinity College Dublin`, \n",
    "- `SIT-Trinity College Dublin / Trinity College Dublin`\n",
    "\n",
    "More manual cleaning is required here if you want to do groupbys & aggs nicely 😢\n",
    "This is left as an exercise 😁"
   ]
  },
  {
   "cell_type": "code",
   "execution_count": 19,
   "metadata": {},
   "outputs": [],
   "source": [
    "merged_df[\"year\"] = merged_df[\"year\"].astype(int)\n",
    "merged_df = merged_df.fillna('na').sort_values([\"year\", \"university\"])\n",
    "merged_df.to_csv(\"2024.csv\", index=False)"
   ]
  }
 ],
 "metadata": {
  "kernelspec": {
   "display_name": ".venv",
   "language": "python",
   "name": "python3"
  },
  "language_info": {
   "codemirror_mode": {
    "name": "ipython",
    "version": 3
   },
   "file_extension": ".py",
   "mimetype": "text/x-python",
   "name": "python",
   "nbconvert_exporter": "python",
   "pygments_lexer": "ipython3",
   "version": "3.11.0"
  }
 },
 "nbformat": 4,
 "nbformat_minor": 2
}
